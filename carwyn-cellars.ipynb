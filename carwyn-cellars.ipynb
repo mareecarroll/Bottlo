{
 "cells": [
  {
   "cell_type": "code",
   "execution_count": 1,
   "metadata": {
    "collapsed": true
   },
   "outputs": [],
   "source": [
    "from bs4 import BeautifulSoup\n",
    "import requests"
   ]
  },
  {
   "cell_type": "code",
   "execution_count": 2,
   "metadata": {
    "collapsed": true
   },
   "outputs": [],
   "source": [
    "stout_url = 'https://carwyncellars.com.au/collections/stout'"
   ]
  },
  {
   "cell_type": "code",
   "execution_count": 3,
   "metadata": {
    "collapsed": false
   },
   "outputs": [],
   "source": [
    "headers = requests.utils.default_headers()\n",
    "\n",
    "headers.update(\n",
    "    {\n",
    "        'User-Agent': 'Mozilla/5.0 (Windows NT 6.1) AppleWebKit/537.36 (KHTML, like Gecko) Chrome/41.0.2228.0 Safari/537.36',\n",
    "    }\n",
    ")"
   ]
  },
  {
   "cell_type": "code",
   "execution_count": 4,
   "metadata": {
    "collapsed": false
   },
   "outputs": [],
   "source": [
    "result = requests.get(stout_url, headers=headers)"
   ]
  },
  {
   "cell_type": "code",
   "execution_count": 5,
   "metadata": {
    "collapsed": true
   },
   "outputs": [],
   "source": [
    "soup = BeautifulSoup(result.content, 'html.parser')"
   ]
  },
  {
   "cell_type": "code",
   "execution_count": 7,
   "metadata": {
    "collapsed": false
   },
   "outputs": [
    {
     "data": {
      "text/plain": [
       "16"
      ]
     },
     "execution_count": 7,
     "metadata": {},
     "output_type": "execute_result"
    }
   ],
   "source": [
    "products = soup.find_all(\"li\", { \"class\" : \"product\" }) \n",
    "len(products)"
   ]
  },
  {
   "cell_type": "code",
   "execution_count": 8,
   "metadata": {
    "collapsed": true
   },
   "outputs": [],
   "source": [
    "untapped_search_url = 'https://untappd.com/search'"
   ]
  },
  {
   "cell_type": "code",
   "execution_count": 42,
   "metadata": {
    "collapsed": true
   },
   "outputs": [],
   "source": [
    "def find_matching_beers(product_name):\n",
    "    \"\"\"\n",
    "    Searches untappd with the given product name and returns results\n",
    "    \n",
    "    Args:\n",
    "        product_name (string): The product name to search untappd for\n",
    "        \n",
    "    Returns:\n",
    "        Array of matching html elements for untappd search results\n",
    "    \"\"\"\n",
    "    result = requests.get(untapped_search_url, params={'q': product_name.replace('&','') })\n",
    "    print(result.url)\n",
    "    soup = BeautifulSoup(result.content, 'html.parser')\n",
    "    matching_beers = soup.find_all('div', {'class': 'beer-item'})\n",
    "    return matching_beers\n",
    "\n",
    "def strip_stop_words(product_name, stop_words):\n",
    "    \"\"\"\n",
    "    Strips out given stop words from product name\n",
    "    \n",
    "    Args:\n",
    "        product_name (string): The product name to strip stop words from\n",
    "        stop_words (list): The stop words to strip from the product name\n",
    "    \n",
    "    Returns:\n",
    "        (string) the product name with stop words stripped from it\n",
    "    \"\"\"\n",
    "    product_name_stripped = product_name\n",
    "    for word in stop_words:\n",
    "        product_name_stripped = product_name_stripped.replace(word, '')\n",
    "    return product_name_stripped\n",
    "\n",
    "def print_matches(product_name, stop_words, price):\n",
    "    matching_beers = find_matching_beers(strip_stop_words(product_name, stop_words))\n",
    "    for beer in matching_beers:\n",
    "        name = beer.find('p', {'class', 'name'}).a.text.strip()\n",
    "        rating = beer.find('span', {'class', 'num'}).text.replace('(','').replace(')','').strip()\n",
    "        brewery = beer.find('p', {'class', 'brewery'}).a.text.strip()\n",
    "        if (float(rating) > 0.1):\n",
    "            print('*', brewery, name, rating, price)\n",
    "            break\n",
    "    print()\n",
    "    try:\n",
    "        if brewery:\n",
    "            return [brewery, name, rating, price]\n",
    "    except:\n",
    "        pass"
   ]
  },
  {
   "cell_type": "code",
   "execution_count": 47,
   "metadata": {
    "collapsed": false
   },
   "outputs": [
    {
     "name": "stdout",
     "output_type": "stream",
     "text": [
      "Boatrocker Boatrocker Coffee Ramjet\n",
      "https://untappd.com/search?q=Boatrocker+Coffee+Ramjet\n",
      "* Boatrocker Brewing Company Coffee Ramjet (2016) 4.492 $17.00\n",
      "\n",
      "Carwyn Cellars Carwyn Cellars M Doulton\n",
      "https://untappd.com/search?q=Carwyn+Cellars+M+Doulton\n",
      "\n",
      "Hawkers Hawkers Imperial Stout 2016\n",
      "https://untappd.com/search?q=Hawkers+Imperial+Stout+2016\n",
      "* Hawkers Beer Imperial Stout (2016) 4.138 $10.00\n",
      "\n",
      "De Molen Brouwerij De Molen Rasputin\n",
      "https://untappd.com/search?q=Brouwerij+De+Molen+Rasputin\n",
      "* Brouwerij De Molen Rasputin 3.951 $15.00\n",
      "\n",
      "BrewDog BrewDog Dog D\n",
      "https://untappd.com/search?q=BrewDog+Dog+D\n",
      "* BrewDog Dog D 4.374 $30.00\n",
      "\n",
      "De Molen Brouwerij De Molen Hel & Verdoemenis (Bruichladdich BA - Brett)\n",
      "https://untappd.com/search?q=Brouwerij+De+Molen+Hel++Verdoemenis+%28Bruichladdich+BA+-+Brett%29\n",
      "* Brouwerij De Molen Hel & Verdoemenis Bruichladdich BA - Brett 4.132 $20.00\n",
      "\n",
      "Deschutes Brewery Deschutes 'The Abyss' Rye Barrel Aged Imperial Stout\n",
      "https://untappd.com/search?q=Deschutes+%27The+Abyss%27+\n",
      "* Deschutes Brewery The Abyss 4.201 $65.00\n",
      "\n",
      "BrewDog BrewDog Dog E\n",
      "https://untappd.com/search?q=BrewDog+Dog+E\n",
      "* BrewDog Dog E 4.251 $32.00\n",
      "\n",
      "BrewDog BrewDog Dog C\n",
      "https://untappd.com/search?q=BrewDog+Dog+C\n",
      "* BrewDog Dog C 4.347 $30.00\n",
      "\n",
      "De Molen Brouwerij De Molen Spanning & Sensatie\n",
      "https://untappd.com/search?q=Brouwerij+De+Molen+Spanning++Sensatie\n",
      "* Brouwerij De Molen Spanning & Sensatie 4.013 $15.00\n",
      "\n",
      "De Molen Brouwerij De Molen Hel & Verdoemenis (Bruichladdich BA - Peated)\n",
      "https://untappd.com/search?q=Brouwerij+De+Molen+Hel++Verdoemenis+%28Bruichladdich+BA+-+Peated%29\n",
      "* Brouwerij De Molen Hel & Verdoemenis Bruichladdich (peated) BA 4.198 $19.00\n",
      "\n",
      "De Molen Brouwerij De Molen Hel & Verdoemenis\n",
      "https://untappd.com/search?q=Brouwerij+De+Molen+Hel++Verdoemenis\n",
      "* Brouwerij De Molen Hel & Verdoemenis 4.036 $15.00\n",
      "\n"
     ]
    }
   ],
   "source": [
    "data = []\n",
    "for product in products:\n",
    "    brand = product.find('h3', {'class': 'brand'}).text\n",
    "    product_name = product.find('h2', {'class': 'title'}).text\n",
    "    price = product.find('span', {'class': 'money'}).text\n",
    "    if brand == 'Carwyn Cellars':\n",
    "        product_name = brand + ' ' + product_name\n",
    "    product_name = product_name.replace('Boatrocker Ramjet Whisky Barrel Aged Imperial Stout with Coffee', 'Boatrocker Coffee Ramjet')\n",
    "    sold_out = product.find('span', {'class': 'badge-soldout'})\n",
    "    if sold_out: \n",
    "        continue\n",
    "    product_name = product_name.replace('De Molen','Brouwerij De Molen')\n",
    "    print(brand, product_name)\n",
    "    stop_words = ['&','Whiskey Barrel Aged', '2017 Release 13.6%',\n",
    "                  'Rye Barrel Aged Imperial Stout']\n",
    "    if '+' in product_name:\n",
    "        ps = product_name.split('+')\n",
    "        first = True\n",
    "        for p in ps:\n",
    "            if first:\n",
    "                first = False\n",
    "            else:\n",
    "                p = brand + \" \" + p\n",
    "            m = print_matches(product_name=p,stop_words=stop_words,price=price)\n",
    "            if m:\n",
    "                data.append(m)\n",
    "    else:\n",
    "        m = print_matches(product_name=product_name,stop_words=stop_words,price=price)\n",
    "        if m:\n",
    "            data.append(m)"
   ]
  },
  {
   "cell_type": "code",
   "execution_count": 48,
   "metadata": {
    "collapsed": false
   },
   "outputs": [
    {
     "data": {
      "text/plain": [
       "[['Boatrocker Brewing Company', 'Coffee Ramjet (2016)', '4.492', '$17.00'],\n",
       " ['Hawkers Beer', 'Imperial Stout (2016)', '4.138', '$10.00'],\n",
       " ['Brouwerij De Molen', 'Rasputin', '3.951', '$15.00'],\n",
       " ['BrewDog', 'Dog D', '4.374', '$30.00'],\n",
       " ['Brouwerij De Molen',\n",
       "  'Hel & Verdoemenis Bruichladdich BA - Brett',\n",
       "  '4.132',\n",
       "  '$20.00'],\n",
       " ['Deschutes Brewery', 'The Abyss', '4.201', '$65.00'],\n",
       " ['BrewDog', 'Dog E', '4.251', '$32.00'],\n",
       " ['BrewDog', 'Dog C', '4.347', '$30.00'],\n",
       " ['Brouwerij De Molen', 'Spanning & Sensatie', '4.013', '$15.00'],\n",
       " ['Brouwerij De Molen',\n",
       "  'Hel & Verdoemenis Bruichladdich (peated) BA',\n",
       "  '4.198',\n",
       "  '$19.00'],\n",
       " ['Brouwerij De Molen', 'Hel & Verdoemenis', '4.036', '$15.00']]"
      ]
     },
     "execution_count": 48,
     "metadata": {},
     "output_type": "execute_result"
    }
   ],
   "source": [
    "data"
   ]
  },
  {
   "cell_type": "code",
   "execution_count": 49,
   "metadata": {
    "collapsed": false
   },
   "outputs": [
    {
     "data": {
      "text/html": [
       "<div>\n",
       "<table border=\"1\" class=\"dataframe\">\n",
       "  <thead>\n",
       "    <tr style=\"text-align: right;\">\n",
       "      <th></th>\n",
       "      <th>Brewery</th>\n",
       "      <th>Name</th>\n",
       "      <th>Rating</th>\n",
       "      <th>Price</th>\n",
       "    </tr>\n",
       "  </thead>\n",
       "  <tbody>\n",
       "    <tr>\n",
       "      <th>0</th>\n",
       "      <td>Boatrocker Brewing Company</td>\n",
       "      <td>Coffee Ramjet (2016)</td>\n",
       "      <td>4.492</td>\n",
       "      <td>$17.00</td>\n",
       "    </tr>\n",
       "    <tr>\n",
       "      <th>1</th>\n",
       "      <td>Hawkers Beer</td>\n",
       "      <td>Imperial Stout (2016)</td>\n",
       "      <td>4.138</td>\n",
       "      <td>$10.00</td>\n",
       "    </tr>\n",
       "    <tr>\n",
       "      <th>2</th>\n",
       "      <td>Brouwerij De Molen</td>\n",
       "      <td>Rasputin</td>\n",
       "      <td>3.951</td>\n",
       "      <td>$15.00</td>\n",
       "    </tr>\n",
       "    <tr>\n",
       "      <th>3</th>\n",
       "      <td>BrewDog</td>\n",
       "      <td>Dog D</td>\n",
       "      <td>4.374</td>\n",
       "      <td>$30.00</td>\n",
       "    </tr>\n",
       "    <tr>\n",
       "      <th>4</th>\n",
       "      <td>Brouwerij De Molen</td>\n",
       "      <td>Hel &amp; Verdoemenis Bruichladdich BA - Brett</td>\n",
       "      <td>4.132</td>\n",
       "      <td>$20.00</td>\n",
       "    </tr>\n",
       "    <tr>\n",
       "      <th>5</th>\n",
       "      <td>Deschutes Brewery</td>\n",
       "      <td>The Abyss</td>\n",
       "      <td>4.201</td>\n",
       "      <td>$65.00</td>\n",
       "    </tr>\n",
       "    <tr>\n",
       "      <th>6</th>\n",
       "      <td>BrewDog</td>\n",
       "      <td>Dog E</td>\n",
       "      <td>4.251</td>\n",
       "      <td>$32.00</td>\n",
       "    </tr>\n",
       "    <tr>\n",
       "      <th>7</th>\n",
       "      <td>BrewDog</td>\n",
       "      <td>Dog C</td>\n",
       "      <td>4.347</td>\n",
       "      <td>$30.00</td>\n",
       "    </tr>\n",
       "    <tr>\n",
       "      <th>8</th>\n",
       "      <td>Brouwerij De Molen</td>\n",
       "      <td>Spanning &amp; Sensatie</td>\n",
       "      <td>4.013</td>\n",
       "      <td>$15.00</td>\n",
       "    </tr>\n",
       "    <tr>\n",
       "      <th>9</th>\n",
       "      <td>Brouwerij De Molen</td>\n",
       "      <td>Hel &amp; Verdoemenis Bruichladdich (peated) BA</td>\n",
       "      <td>4.198</td>\n",
       "      <td>$19.00</td>\n",
       "    </tr>\n",
       "    <tr>\n",
       "      <th>10</th>\n",
       "      <td>Brouwerij De Molen</td>\n",
       "      <td>Hel &amp; Verdoemenis</td>\n",
       "      <td>4.036</td>\n",
       "      <td>$15.00</td>\n",
       "    </tr>\n",
       "  </tbody>\n",
       "</table>\n",
       "</div>"
      ],
      "text/plain": [
       "                       Brewery                                         Name  \\\n",
       "0   Boatrocker Brewing Company                         Coffee Ramjet (2016)   \n",
       "1                 Hawkers Beer                        Imperial Stout (2016)   \n",
       "2           Brouwerij De Molen                                     Rasputin   \n",
       "3                      BrewDog                                        Dog D   \n",
       "4           Brouwerij De Molen   Hel & Verdoemenis Bruichladdich BA - Brett   \n",
       "5            Deschutes Brewery                                    The Abyss   \n",
       "6                      BrewDog                                        Dog E   \n",
       "7                      BrewDog                                        Dog C   \n",
       "8           Brouwerij De Molen                          Spanning & Sensatie   \n",
       "9           Brouwerij De Molen  Hel & Verdoemenis Bruichladdich (peated) BA   \n",
       "10          Brouwerij De Molen                            Hel & Verdoemenis   \n",
       "\n",
       "   Rating   Price  \n",
       "0   4.492  $17.00  \n",
       "1   4.138  $10.00  \n",
       "2   3.951  $15.00  \n",
       "3   4.374  $30.00  \n",
       "4   4.132  $20.00  \n",
       "5   4.201  $65.00  \n",
       "6   4.251  $32.00  \n",
       "7   4.347  $30.00  \n",
       "8   4.013  $15.00  \n",
       "9   4.198  $19.00  \n",
       "10  4.036  $15.00  "
      ]
     },
     "execution_count": 49,
     "metadata": {},
     "output_type": "execute_result"
    }
   ],
   "source": [
    "import pandas as pd\n",
    "df = pd.DataFrame(data=data, columns=['Brewery','Name','Rating','Price'])\n",
    "df"
   ]
  },
  {
   "cell_type": "code",
   "execution_count": 50,
   "metadata": {
    "collapsed": true
   },
   "outputs": [],
   "source": [
    "df.to_csv('Carwyn_Cellars.csv')"
   ]
  },
  {
   "cell_type": "code",
   "execution_count": null,
   "metadata": {
    "collapsed": true
   },
   "outputs": [],
   "source": []
  }
 ],
 "metadata": {
  "kernelspec": {
   "display_name": "Python 3",
   "language": "python",
   "name": "python3"
  },
  "language_info": {
   "codemirror_mode": {
    "name": "ipython",
    "version": 3
   },
   "file_extension": ".py",
   "mimetype": "text/x-python",
   "name": "python",
   "nbconvert_exporter": "python",
   "pygments_lexer": "ipython3",
   "version": "3.5.1"
  }
 },
 "nbformat": 4,
 "nbformat_minor": 2
}
